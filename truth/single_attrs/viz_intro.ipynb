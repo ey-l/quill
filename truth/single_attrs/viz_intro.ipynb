{
 "cells": [
  {
   "cell_type": "code",
   "execution_count": 1,
   "id": "3ed31838",
   "metadata": {},
   "outputs": [],
   "source": [
    "import pandas as pd\n",
    "import os\n",
    "from pathlib import Path\n",
    "import sys\n",
    "sys.path.append(\"./../../\")\n",
    "from scripts.framework.utils import *\n",
    "import json\n",
    "project_root = \"../../\""
   ]
  },
  {
   "cell_type": "code",
   "execution_count": 2,
   "id": "f25d37f0",
   "metadata": {},
   "outputs": [],
   "source": [
    "import matplotlib.pyplot as plt\n",
    "from typing import List, Union, Any, Tuple, Dict\n",
    "import numpy as np\n",
    "# plot scatter plot of utility and semantic metric for each cluster\n",
    "def plot_pareto_points(pareto_points:List, est_pareto_points:List=None, est_pareto_points2:List=None, explored_points:List=None, points_df=None) -> Tuple:\n",
    "    \"\"\"\n",
    "    Plot the estimated and ground truth Pareto fronts.\n",
    "    Args:\n",
    "        pareto_points (List): Ground truth Pareto front\n",
    "        est_pareto_points (List): Estimated Pareto front\n",
    "    \"\"\"\n",
    "    # Sort the points for plotting\n",
    "    #pareto_points = sorted(pareto_points, key=lambda x: x[1])\n",
    "    #est_pareto_points = sorted(est_pareto_points, key=lambda x: x[1])\n",
    "    # Plot the Pareto front\n",
    "    pareto_points = np.array(pareto_points)\n",
    "    #est_pareto_points = np.array(est_pareto_points)\n",
    "    #datapoints = np.array(datapoints)\n",
    "    # Set size of the plot\n",
    "    fig, ax = plt.subplots(figsize=(6, 4))\n",
    "    #f, ax = plt.subplots()\n",
    "    #ax.scatter(datapoints[0], datapoints[1], c='gray', label='Data Points', alpha=0.3)\n",
    "    markers = [\".\" , \",\" , \"o\" , \"v\" , \"^\" , \"<\", \">\"]\n",
    "    #for cluster in points_df['Cluster'].unique():\n",
    "    #    cluster_points = points_df[points_df['Cluster'] == cluster]\n",
    "    #    marker_index = int(cluster % len(markers))\n",
    "    #    ax.scatter(cluster_points['Semantic'], cluster_points['Utility'], label=cluster, color=colors[cluster], alpha=0.5, marker=markers[marker_index])\n",
    "\n",
    "    #ax.scatter(explored_points[0], explored_points[1], c='gray', label='Explored Points', marker='x',)\n",
    "    ax.plot(pareto_points[1], pareto_points[0], '+', c='red', label='Ground Truth', markersize=10)\n",
    "    \n",
    "    if est_pareto_points is not None:\n",
    "        ax.plot(est_pareto_points[1], est_pareto_points[0], 's', c='green', label='Q-learning', markersize=10)\n",
    "    \n",
    "    if est_pareto_points2 is not None:\n",
    "        ax.plot(est_pareto_points2[1], est_pareto_points2[0], 'v', c='purple', label='Random', markersize=10)\n",
    "    \n",
    "    ax.legend(bbox_to_anchor=(1, 1.2),ncol=2, fontsize=12)\n",
    "    ax.set_ylabel('Semantic', fontsize=14)\n",
    "    ax.set_xlabel('Utility', fontsize=14)\n",
    "    #ax.set_title('Pareto Curve Estimated vs. Ground-Truth', fontsize=14)\n",
    "    return fig, ax"
   ]
  },
  {
   "cell_type": "code",
   "execution_count": 3,
   "id": "1b189cca",
   "metadata": {},
   "outputs": [
    {
     "data": {
      "text/plain": [
       "['Current Loan Amount',\n",
       " 'Credit Score',\n",
       " 'Annual Income',\n",
       " 'Years of Credit History']"
      ]
     },
     "execution_count": 3,
     "metadata": {},
     "output_type": "execute_result"
    }
   ],
   "source": [
    "dataset = 'bank'\n",
    "exp_config = json.load(open(os.path.join(project_root, 'data', dataset, f'{dataset}.json')))\n",
    "attributes = list(exp_config['attributes'].keys())\n",
    "attributes"
   ]
  },
  {
   "cell_type": "code",
   "execution_count": 4,
   "id": "f59c453b",
   "metadata": {},
   "outputs": [],
   "source": [
    "truth_dir = os.path.join(project_root, \"truth\", 'single_attrs')\n",
    "utility_function = 'spearman'"
   ]
  },
  {
   "cell_type": "code",
   "execution_count": 5,
   "id": "379c6bfe",
   "metadata": {},
   "outputs": [
    {
     "data": {
      "image/png": "[encoded data removed]",
      "text/plain": [
       "<Figure size 432x288 with 1 Axes>"
      ]
     },
     "metadata": {
      "needs_background": "light"
     },
     "output_type": "display_data"
    }
   ],
   "source": [
    "attr = 'Credit Score'\n",
    "dataset = 'bank'\n",
    "gt_filepath = os.path.join(truth_dir, f'{dataset}.{attr}.{utility_function}.csv')\n",
    "df = pd.read_csv(gt_filepath)\n",
    "gt_df = df.copy()\n",
    "semantic_metric = 'KLDiv'\n",
    "datapoints = [np.array(gt_df[semantic_metric].values), np.array(gt_df['utility'].values)]\n",
    "lst = compute_pareto_front(datapoints)\n",
    "gt_df[\"Estimated\"] = 0\n",
    "gt_df.loc[lst, \"Estimated\"] = 1\n",
    "gt_df[\"Explored\"] = 1\n",
    "\n",
    "# Save the results\n",
    "gt_df = gt_df[gt_df['Estimated'] == 1]\n",
    "# remove duplicates\n",
    "gt_df = gt_df.drop_duplicates(subset=[semantic_metric, 'utility'])\n",
    "points = [np.array(gt_df[semantic_metric].values), np.array(gt_df['utility'].values)]\n",
    "fig, ax = plot_pareto_points(points)"
   ]
  },
  {
   "cell_type": "code",
   "execution_count": 6,
   "id": "5ae9e338",
   "metadata": {},
   "outputs": [
    {
     "data": {
      "image/png": "[encoded data removed]",
      "text/plain": [
       "<Figure size 432x288 with 1 Axes>"
      ]
     },
     "metadata": {
      "needs_background": "light"
     },
     "output_type": "display_data"
    }
   ],
   "source": [
    "attr = 'Credit Score'\n",
    "dataset = 'bank'\n",
    "gt_filepath = os.path.join(truth_dir, f'{dataset}.{attr}.{utility_function}.csv')\n",
    "df = pd.read_csv(gt_filepath)\n",
    "gt_df = df.copy()\n",
    "semantic_metric = 'l2_norm'\n",
    "datapoints = [np.array(gt_df[semantic_metric].values), np.array(gt_df['utility'].values)]\n",
    "lst = compute_pareto_front(datapoints)\n",
    "gt_df[\"Estimated\"] = 0\n",
    "gt_df.loc[lst, \"Estimated\"] = 1\n",
    "gt_df[\"Explored\"] = 1\n",
    "\n",
    "# Save the results\n",
    "gt_df = gt_df[gt_df['Estimated'] == 1]\n",
    "# remove duplicates\n",
    "gt_df = gt_df.drop_duplicates(subset=[semantic_metric, 'utility'])\n",
    "points = [np.array(gt_df[semantic_metric].values), np.array(gt_df['utility'].values)]\n",
    "fig, ax = plot_pareto_points(points)"
   ]
  },
  {
   "cell_type": "code",
   "execution_count": 86,
   "id": "22b7eeba",
   "metadata": {},
   "outputs": [
    {
     "data": {
      "image/png": "[encoded data removed]",
      "text/plain": [
       "<Figure size 504x165.6 with 2 Axes>"
      ]
     },
     "metadata": {
      "needs_background": "light"
     },
     "output_type": "display_data"
    }
   ],
   "source": [
    "import matplotlib.pyplot as plt\n",
    "import numpy as np\n",
    "\n",
    "def plot_pareto_points(pareto_points, est_pareto_points=None, est_pareto_points2=None, ax=None):\n",
    "    \"\"\"\n",
    "    Plot the estimated and ground truth Pareto fronts on a given axis.\n",
    "    \"\"\"\n",
    "    if ax is None:\n",
    "        fig, ax = plt.subplots(figsize=(6, 4))\n",
    "    else:\n",
    "        fig = ax.figure\n",
    "    pareto_points = np.array(pareto_points)\n",
    "\n",
    "    # --- sort by y-axis (Semantic, index 0) ---\n",
    "    order = np.argsort(pareto_points[0])\n",
    "    pareto_points = pareto_points[:, order]\n",
    "\n",
    "    # Ground truth with line + thicker markers\n",
    "    ax.plot(\n",
    "        pareto_points[1], pareto_points[0],\n",
    "        marker='s', markersize=12, markeredgewidth=0.2,\n",
    "        linestyle='-', linewidth=2, color=\"#004D40\",\n",
    "        label='Brute-force Pareto curve'\n",
    "    )\n",
    "\n",
    "    if est_pareto_points is not None:\n",
    "        est_pareto_points = np.array(est_pareto_points)\n",
    "        # --- sort by y-axis (Semantic, index 0) ---\n",
    "        order = np.argsort(est_pareto_points[1])\n",
    "        est_pareto_points = est_pareto_points[:, order]\n",
    "        ax.plot(\n",
    "            est_pareto_points[1], est_pareto_points[0],\n",
    "            marker='o', markersize=8, markeredgewidth=2,\n",
    "            linestyle='-', linewidth=2, color=\"#C469D9\",\n",
    "            label='Estimated Pareto curve'\n",
    "        )\n",
    "    \n",
    "    if est_pareto_points2 is not None:\n",
    "        ax.plot(\n",
    "            est_pareto_points2[1], est_pareto_points2[0],\n",
    "            marker='v', markersize=8, markeredgewidth=2,\n",
    "            linestyle='-', linewidth=2, color='purple',\n",
    "            label='Random'\n",
    "        )\n",
    "    #ax.set_ylabel('Semantic', fontsize=14)\n",
    "    ax.set_xlabel('Model accuracy', fontsize=14)\n",
    "    ax.tick_params(axis='x', labelsize=12)\n",
    "    ax.tick_params(axis='y', labelsize=12)\n",
    "    ax.grid(axis='y', linestyle=':', alpha=0.4)\n",
    "    return fig, ax\n",
    "\n",
    "# Create 2 subplots in one figure\n",
    "fig, axes = plt.subplots(1, 2, figsize=(7, 2.3), sharey=True)\n",
    "plt.tight_layout()\n",
    "\n",
    "truth_dir = os.path.join(project_root, \"truth\")\n",
    "\n",
    "# --- Plot 1 (KLDiv) ---\n",
    "semantic_metric = 'gpt_semantics'\n",
    "gt_filepath = os.path.join(truth_dir, f'pima.multi_attrs.DecisionTreeClassifier.gpt_semantics.csv')\n",
    "df = pd.read_csv(gt_filepath)\n",
    "gt_df = df.copy()\n",
    "# divide semantic by 4\n",
    "datapoints = [np.array(gt_df[semantic_metric].values), np.array(gt_df['utility'].values)]\n",
    "lst = compute_pareto_front(datapoints)\n",
    "gt_df[\"Estimated\"] = 0\n",
    "gt_df.loc[lst, \"Estimated\"] = 1\n",
    "gt_df = gt_df[gt_df['Estimated'] == 1].drop_duplicates(subset=[semantic_metric, 'utility'])\n",
    "points = [np.array(gt_df[semantic_metric].values)/4, np.array(gt_df['utility'].values)]\n",
    "\n",
    "# Randomly sample \n",
    "random_points = [[2.33333333, 0.82191781],\n",
    " [1.66666667, 0.83443709],\n",
    " [1.33333333, 0.85517241],\n",
    " [3.33333333, 0.79452055]]\n",
    "random_points = np.array(random_points).T\n",
    "random_points[0] = random_points[0]/4\n",
    "\n",
    "plot_pareto_points(points, ax=axes[0], est_pareto_points=random_points)\n",
    "axes[0].set_ylabel('Semantic A', fontsize=14)\n",
    "\n",
    "# --- Plot 2 (l2_norm) ---\n",
    "semantic_metric = 'KLDiv'\n",
    "gt_filepath = os.path.join(truth_dir, f'pima.multi_attrs.DecisionTreeClassifier.KLDiv.csv')\n",
    "df = pd.read_csv(gt_filepath)\n",
    "gt_df = df.copy()\n",
    "datapoints = [np.array(gt_df[semantic_metric].values), np.array(gt_df['utility'].values)]\n",
    "lst = compute_pareto_front(datapoints)\n",
    "gt_df[\"Estimated\"] = 0\n",
    "gt_df.loc[lst, \"Estimated\"] = 1\n",
    "gt_df = gt_df[gt_df['Estimated'] == 1].drop_duplicates(subset=[semantic_metric, 'utility'])\n",
    "points = [np.array(gt_df[semantic_metric].values), np.array(gt_df['utility'].values)]\n",
    "random_points = [[0.97827931, 0.65217391],\n",
    " [0.62789346, 0.84827586],\n",
    " [0.92722649, 0.78378378],\n",
    " [0.91098679, 0.82178218],\n",
    " [0.96994965, 0.75      ],\n",
    " [0.94852953, 0.76712329],\n",
    " [0.94241596, 0.78082192],\n",
    " [0.88906187, 0.84482759],\n",
    " [0.93342284, 0.78145695]]\n",
    "random_points = np.array(random_points).T\n",
    "\n",
    "plot_pareto_points(points, ax=axes[1], est_pareto_points=random_points)\n",
    "axes[1].set_ylabel('Semantic B', fontsize=14)\n",
    "\n",
    "plt.legend(bbox_to_anchor=(1, 1.3), ncol=2, fontsize=14)\n",
    "#plt.tight_layout()\n",
    "plt.savefig(f'intro.png', bbox_inches='tight')\n",
    "plt.show()\n"
   ]
  },
  {
   "cell_type": "code",
   "execution_count": 44,
   "id": "e3d35535",
   "metadata": {},
   "outputs": [
    {
     "name": "stdout",
     "output_type": "stream",
     "text": [
      "[[0.57580736 0.48021999 0.58101027 1.         0.67541468 0.48685322\n",
      "  0.54594163 0.59565933 0.52910406 0.42044778 0.49100184 0.68106544\n",
      "  0.59098918 0.53795301 0.58885908 0.53635152 0.42835377 0.4715838\n",
      "  0.59850153 0.65709305]\n",
      " [1.         0.77459667 0.2        0.14285714 0.8660254  0.77459667\n",
      "  1.         0.78571429 0.5        0.73029674 0.68491749 0.8660254\n",
      "  0.5        0.8660254  1.         0.8660254  0.77459667 0.77459667\n",
      "  0.69825325 0.25      ]]\n"
     ]
    }
   ],
   "source": [
    "import numpy as np\n",
    "\n",
    "# Example arrays\n",
    "y_vals = datapoints[0]\n",
    "x_vals = datapoints[1]\n",
    "\n",
    "def sample_points(x_vals, y_vals, N, seed=None):\n",
    "    \"\"\"\n",
    "    Randomly sample N points from (x_vals, y_vals) pairs.\n",
    "    \"\"\"\n",
    "    if seed is not None:\n",
    "        np.random.seed(seed)  # for reproducibility\n",
    "    \n",
    "    # Number of available points\n",
    "    total = len(x_vals)\n",
    "    \n",
    "    # Pick N unique random indices\n",
    "    indices = np.random.choice(total, size=N, replace=False)\n",
    "    \n",
    "    # Subset the arrays\n",
    "    x_sample = x_vals[indices]\n",
    "    y_sample = y_vals[indices]\n",
    "    \n",
    "    return np.array([y_sample, x_sample])\n",
    "\n",
    "# Example: pick 10 random points\n",
    "sampled_points = sample_points(x_vals, y_vals, N=20, seed=42)\n",
    "print(sampled_points)\n"
   ]
  },
  {
   "cell_type": "code",
   "execution_count": 45,
   "id": "4aff86e9",
   "metadata": {},
   "outputs": [
    {
     "name": "stdout",
     "output_type": "stream",
     "text": [
      "(2, 3)\n",
      "[[0.58885459 0.57832527 0.51265595]\n",
      " [1.         0.5        0.8660254 ]]\n"
     ]
    }
   ],
   "source": [
    "def select_points_by_index(x_vals, y_vals, indices):\n",
    "    \"\"\"\n",
    "    Select points from (x_vals, y_vals) using a list of indices.\n",
    "    \"\"\"\n",
    "    indices = np.array(indices, dtype=int)  # make sure they're integers\n",
    "    x_sel = x_vals[indices]\n",
    "    y_sel = y_vals[indices]\n",
    "    return np.array([y_sel, x_sel])\n",
    "\n",
    "# Example usage\n",
    "i_ls = compute_pareto_front(sampled_points)\n",
    "\n",
    "selected_points = select_points_by_index(datapoints[1], datapoints[0], i_ls)\n",
    "\n",
    "print(selected_points.shape)  # (2, len(indices))\n",
    "print(selected_points)\n"
   ]
  },
  {
   "cell_type": "code",
   "execution_count": 41,
   "id": "e8dafee3",
   "metadata": {},
   "outputs": [
    {
     "data": {
      "text/plain": [
       "[3, 4, 0]"
      ]
     },
     "execution_count": 41,
     "metadata": {},
     "output_type": "execute_result"
    }
   ],
   "source": [
    "i_ls"
   ]
  },
  {
   "cell_type": "code",
   "execution_count": null,
   "id": "de6bb482",
   "metadata": {},
   "outputs": [],
   "source": []
  }
 ],
 "metadata": {
  "kernelspec": {
   "display_name": "lucid",
   "language": "python",
   "name": "python3"
  },
  "language_info": {
   "codemirror_mode": {
    "name": "ipython",
    "version": 3
   },
   "file_extension": ".py",
   "mimetype": "text/x-python",
   "name": "python",
   "nbconvert_exporter": "python",
   "pygments_lexer": "ipython3",
   "version": "3.9.12"
  }
 },
 "nbformat": 4,
 "nbformat_minor": 5
}
