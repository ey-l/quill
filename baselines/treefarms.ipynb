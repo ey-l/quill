{
 "cells": [
  {
   "cell_type": "code",
   "execution_count": 2,
   "id": "7f355cdd",
   "metadata": {},
   "outputs": [],
   "source": [
    "######################################################################\n",
    "# 0 .  Imports & dataset ---------------------------------------------\n",
    "######################################################################\n",
    "import pandas as pd\n",
    "from treefarms import TREEFARMS\n",
    "import time\n",
    "\n",
    "# your dataframe with columns  [\"Age\",\"BMI\",\"Glucose\",\"Outcome\"]\n",
    "df = pd.read_csv(\"../data/pima/input/diabetes-treefarms.csv\")\n",
    "#X, y          = df.iloc[:, :-1], df.iloc[:, -1]\n",
    "X, y          = df.drop(columns=[\"Outcome\"]), df[\"Outcome\"]\n",
    "feature_names = list(X.columns)"
   ]
  },
  {
   "cell_type": "code",
   "execution_count": 3,
   "id": "3e015764",
   "metadata": {},
   "outputs": [
    {
     "name": "stdout",
     "output_type": "stream",
     "text": [
      "null\n",
      "Finding Optimal Objective...\n",
      "treefarms reported successful execution{\n",
      "  \"complexity\": 0.10000000149011612,\n",
      "  \"loss\": 0.3489583432674408,\n",
      "  \"model_objective\": 0.4489583373069763,\n",
      "  \"name\": \"Outcome\",\n",
      "  \"prediction\": 0\n",
      "}\n",
      "\n",
      "training completed. Number of trees in the Rashomon set: 285\n",
      "Training time: 402.42 seconds\n"
     ]
    }
   ],
   "source": [
    "\n",
    "######################################################################\n",
    "# 1 .  Configure & fit TreeFARMS -------------------------------------\n",
    "######################################################################\n",
    "cfg = {\n",
    "    \"regularization\"            : 0.1,   # ≤ sparsity penalty\n",
    "    \"rashomon_bound_multiplier\" : 0.1,   # enumerate near-optimal trees\n",
    "    \"depth_budget\"                 : 5       # keep trees interpretable\n",
    "}\n",
    "\n",
    "start_time = time.time()\n",
    "model = TREEFARMS(cfg)\n",
    "model.fit(X, y)\n",
    "end_time = time.time()\n",
    "print(f\"Training time: {end_time - start_time:.2f} seconds\")"
   ]
  },
  {
   "cell_type": "code",
   "execution_count": 4,
   "id": "6de924e9",
   "metadata": {},
   "outputs": [
    {
     "name": "stdout",
     "output_type": "stream",
     "text": [
      "evaluating the first model in the Rashomon set\n"
     ]
    },
    {
     "name": "stdout",
     "output_type": "stream",
     "text": [
      "Training accuracy: 0.71484375\n",
      "# of leaves: 2\n",
      "if feature_1842 = true then:\n",
      "    predicted Prediction: 0\n",
      "\n",
      "else if feature_1842 != true then:\n",
      "    predicted Prediction: 1\n"
     ]
    }
   ],
   "source": [
    "first_tree = model[0]\n",
    "\n",
    "print(\"evaluating the first model in the Rashomon set\", flush=True)\n",
    "\n",
    "# get the results\n",
    "train_acc = first_tree.score(X, y)\n",
    "n_leaves = first_tree.leaves()\n",
    "n_nodes = first_tree.nodes()\n",
    "\n",
    "print(\"Training accuracy: {}\".format(train_acc))\n",
    "print(\"# of leaves: {}\".format(n_leaves))\n",
    "print(first_tree)"
   ]
  },
  {
   "cell_type": "code",
   "execution_count": 5,
   "id": "5c3affa4",
   "metadata": {},
   "outputs": [],
   "source": [
    "######################################################################\n",
    "# 2 .  Helper: extract cut-points from a TreeFARMS tree --------------\n",
    "######################################################################\n",
    "def bins_from_tree(tree, feat_names):\n",
    "    \"\"\"\n",
    "    Parameters\n",
    "    ----------\n",
    "    tree : one element returned by `model[...]`\n",
    "    feat_names : list[str]\n",
    "\n",
    "    Returns\n",
    "    -------\n",
    "    dict   {feature_name : sorted list of thresholds}\n",
    "    \"\"\"\n",
    "    # Obtain the underlying scikit-learn DecisionTreeClassifier\n",
    "    if hasattr(tree, \"to_sklearn\"):\n",
    "        sk_tree = tree.to_sklearn()\n",
    "    elif hasattr(tree, \"sklearn_tree_\"):   # older API\n",
    "        sk_tree = tree\n",
    "    else:\n",
    "        raise RuntimeError(\"Cannot access sklearn tree in this TreeFARMS object\")\n",
    "\n",
    "    cuts = {}\n",
    "    tree_ = sk_tree.tree_\n",
    "    for node_id in range(tree_.node_count):\n",
    "        feat_idx = tree_.feature[node_id]\n",
    "        thr      = tree_.threshold[node_id]\n",
    "        if feat_idx >= 0:                    # −2 means leaf\n",
    "            fname = feat_names[feat_idx]\n",
    "            cuts.setdefault(fname, set()).add(float(thr))\n",
    "\n",
    "    return {f: sorted(thrs) for f, thrs in cuts.items()}"
   ]
  },
  {
   "cell_type": "code",
   "execution_count": 6,
   "id": "c9b2e84c",
   "metadata": {},
   "outputs": [
    {
     "name": "stdout",
     "output_type": "stream",
     "text": [
      "\n",
      "=== Best tree ===\n",
      "if feature_1842 = true then:\n",
      "    predicted Prediction: 0\n",
      "\n",
      "else if feature_1842 != true then:\n",
      "    predicted Prediction: 1\n",
      "Training accuracy : 0.71484375\n",
      "# leaves          : 2\n",
      "\n",
      "Cut-points (bins) extracted from this tree:\n"
     ]
    },
    {
     "ename": "RuntimeError",
     "evalue": "Cannot access sklearn tree in this TreeFARMS object",
     "output_type": "error",
     "traceback": [
      "\u001b[0;31m---------------------------------------------------------------------------\u001b[0m",
      "\u001b[0;31mRuntimeError\u001b[0m                              Traceback (most recent call last)",
      "Input \u001b[0;32mIn [6]\u001b[0m, in \u001b[0;36m<cell line: 10>\u001b[0;34m()\u001b[0m\n\u001b[1;32m      7\u001b[0m \u001b[38;5;28mprint\u001b[39m(\u001b[38;5;124m\"\u001b[39m\u001b[38;5;124m# leaves          :\u001b[39m\u001b[38;5;124m\"\u001b[39m, best_tree\u001b[38;5;241m.\u001b[39mleaves())\n\u001b[1;32m      9\u001b[0m \u001b[38;5;28mprint\u001b[39m(\u001b[38;5;124m\"\u001b[39m\u001b[38;5;130;01m\\n\u001b[39;00m\u001b[38;5;124mCut-points (bins) extracted from this tree:\u001b[39m\u001b[38;5;124m\"\u001b[39m)\n\u001b[0;32m---> 10\u001b[0m \u001b[38;5;28;01mfor\u001b[39;00m feat, cut_list \u001b[38;5;129;01min\u001b[39;00m \u001b[43mbins_from_tree\u001b[49m\u001b[43m(\u001b[49m\u001b[43mbest_tree\u001b[49m\u001b[43m,\u001b[49m\u001b[43m \u001b[49m\u001b[43mfeature_names\u001b[49m\u001b[43m)\u001b[49m\u001b[38;5;241m.\u001b[39mitems():\n\u001b[1;32m     11\u001b[0m     \u001b[38;5;28mprint\u001b[39m(\u001b[38;5;124mf\u001b[39m\u001b[38;5;124m\"\u001b[39m\u001b[38;5;124m  \u001b[39m\u001b[38;5;132;01m{\u001b[39;00mfeat\u001b[38;5;132;01m:\u001b[39;00m\u001b[38;5;124m8s\u001b[39m\u001b[38;5;132;01m}\u001b[39;00m\u001b[38;5;124m : \u001b[39m\u001b[38;5;132;01m{\u001b[39;00mcut_list\u001b[38;5;132;01m}\u001b[39;00m\u001b[38;5;124m\"\u001b[39m)\n\u001b[1;32m     13\u001b[0m \u001b[38;5;66;03m######################################################################\u001b[39;00m\n\u001b[1;32m     14\u001b[0m \u001b[38;5;66;03m# 4 .  Repeat for entire Rashomon set (optional) ---------------------\u001b[39;00m\n\u001b[1;32m     15\u001b[0m \u001b[38;5;66;03m######################################################################\u001b[39;00m\n",
      "Input \u001b[0;32mIn [5]\u001b[0m, in \u001b[0;36mbins_from_tree\u001b[0;34m(tree, feat_names)\u001b[0m\n\u001b[1;32m     19\u001b[0m     sk_tree \u001b[38;5;241m=\u001b[39m tree\n\u001b[1;32m     20\u001b[0m \u001b[38;5;28;01melse\u001b[39;00m:\n\u001b[0;32m---> 21\u001b[0m     \u001b[38;5;28;01mraise\u001b[39;00m \u001b[38;5;167;01mRuntimeError\u001b[39;00m(\u001b[38;5;124m\"\u001b[39m\u001b[38;5;124mCannot access sklearn tree in this TreeFARMS object\u001b[39m\u001b[38;5;124m\"\u001b[39m)\n\u001b[1;32m     23\u001b[0m cuts \u001b[38;5;241m=\u001b[39m {}\n\u001b[1;32m     24\u001b[0m tree_ \u001b[38;5;241m=\u001b[39m sk_tree\u001b[38;5;241m.\u001b[39mtree_\n",
      "\u001b[0;31mRuntimeError\u001b[0m: Cannot access sklearn tree in this TreeFARMS object"
     ]
    }
   ],
   "source": [
    "######################################################################\n",
    "# 3 .  Print best tree + discretisation bins -------------------------\n",
    "######################################################################\n",
    "best_tree = model[0]  # lowest objective value\n",
    "print(f\"\\n=== Best tree ===\\n{best_tree}\")\n",
    "print(\"Training accuracy :\", best_tree.score(X, y))\n",
    "print(\"# leaves          :\", best_tree.leaves())\n",
    "\n",
    "print(\"\\nCut-points (bins) extracted from this tree:\")\n",
    "for feat, cut_list in bins_from_tree(best_tree, feature_names).items():\n",
    "    print(f\"  {feat:8s} : {cut_list}\")\n",
    "\n",
    "######################################################################\n",
    "# 4 .  Repeat for entire Rashomon set (optional) ---------------------\n",
    "######################################################################\n",
    "for idx, t in enumerate(model):\n",
    "    print(f\"\\n--- Tree #{idx}  objective={t.objective:.4f} ---\")\n",
    "    for feat, cuts in bins_from_tree(t, feature_names).items():\n",
    "        print(f\"  {feat:8s} : {cuts}\")\n"
   ]
  },
  {
   "cell_type": "code",
   "execution_count": 7,
   "id": "a61965fe",
   "metadata": {},
   "outputs": [
    {
     "data": {
      "text/plain": [
       "[{'prediction': 1, 'name': 'Prediction'},\n",
       " {'prediction': 0, 'name': 'Prediction'}]"
      ]
     },
     "execution_count": 7,
     "metadata": {},
     "output_type": "execute_result"
    }
   ],
   "source": [
    "best = model[0]  # lowest objective value\n",
    "best.__all_leaves__()"
   ]
  },
  {
   "cell_type": "code",
   "execution_count": null,
   "id": "8fa8c6f6",
   "metadata": {},
   "outputs": [],
   "source": []
  }
 ],
 "metadata": {
  "kernelspec": {
   "display_name": "lucid",
   "language": "python",
   "name": "python3"
  },
  "language_info": {
   "codemirror_mode": {
    "name": "ipython",
    "version": 3
   },
   "file_extension": ".py",
   "mimetype": "text/x-python",
   "name": "python",
   "nbconvert_exporter": "python",
   "pygments_lexer": "ipython3",
   "version": "3.9.12"
  }
 },
 "nbformat": 4,
 "nbformat_minor": 5
}
