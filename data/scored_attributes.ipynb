{
 "cells": [
  {
   "cell_type": "markdown",
   "id": "72e9d337",
   "metadata": {},
   "source": [
    "## Add 'multi_attribute' to scored_attribute files\n",
    "Indicate if a particular candidate partition is used in the multi-attribute case"
   ]
  },
  {
   "cell_type": "code",
   "execution_count": 1,
   "id": "a175975f",
   "metadata": {},
   "outputs": [],
   "source": [
    "import pandas as pd\n",
    "import numpy as np"
   ]
  },
  {
   "cell_type": "code",
   "execution_count": 4,
   "id": "12074e63",
   "metadata": {},
   "outputs": [
    {
     "data": {
      "text/plain": [
       "['./taxi/scored_attributes/duration.csv',\n",
       " './taxi/scored_attributes/passenger_count.csv',\n",
       " './taxi/scored_attributes/trip_distance.csv']"
      ]
     },
     "execution_count": 4,
     "metadata": {},
     "output_type": "execute_result"
    }
   ],
   "source": [
    "new_column = 'multi_attribute'\n",
    "# Find all .csv files in a given directory\n",
    "def find_csv_files(directory):\n",
    "    import os\n",
    "    return [os.path.join(directory, f) for f in os.listdir(directory) if f.endswith('.csv')]\n",
    "\n",
    "find_csv_files('./taxi/scored_attributes')"
   ]
  },
  {
   "cell_type": "code",
   "execution_count": 7,
   "id": "f19e14b4",
   "metadata": {},
   "outputs": [
    {
     "name": "stdout",
     "output_type": "stream",
     "text": [
      "Processing file: ./taxi/scored_attributes/duration.csv\n",
      "File ./taxi/scored_attributes/duration.csv processed and saved.\n",
      "Processing file: ./taxi/scored_attributes/passenger_count.csv\n",
      "File ./taxi/scored_attributes/passenger_count.csv processed and saved.\n",
      "Processing file: ./taxi/scored_attributes/trip_distance.csv\n",
      "File ./taxi/scored_attributes/trip_distance.csv processed and saved.\n"
     ]
    }
   ],
   "source": [
    "for file in find_csv_files('./taxi/scored_attributes'):\n",
    "    print(f\"Processing file: {file}\")\n",
    "    df = pd.read_csv(file)\n",
    "    \n",
    "    # One line to create new_column, where 1 if 'gpt_prompt' > 1, else 0\n",
    "    df[new_column] = np.where(df['gpt_prompt'] > 1, 1, 0)\n",
    "    # For new_column, if a row in in the first 30 rows, set it to 1, else 0\n",
    "    df[new_column] = np.where(df.index < 20, 1, df[new_column])\n",
    "    # Save the modified DataFrame back to the CSV file\n",
    "    df.to_csv(file, index=False)\n",
    "    print(f\"File {file} processed and saved.\")"
   ]
  },
  {
   "cell_type": "code",
   "execution_count": null,
   "id": "adfd65b7",
   "metadata": {},
   "outputs": [],
   "source": []
  }
 ],
 "metadata": {
  "kernelspec": {
   "display_name": "lucid",
   "language": "python",
   "name": "python3"
  },
  "language_info": {
   "codemirror_mode": {
    "name": "ipython",
    "version": 3
   },
   "file_extension": ".py",
   "mimetype": "text/x-python",
   "name": "python",
   "nbconvert_exporter": "python",
   "pygments_lexer": "ipython3",
   "version": "3.9.12"
  }
 },
 "nbformat": 4,
 "nbformat_minor": 5
}
